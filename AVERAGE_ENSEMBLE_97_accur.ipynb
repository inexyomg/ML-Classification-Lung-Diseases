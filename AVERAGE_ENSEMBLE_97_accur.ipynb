{
 "cells": [
  {
   "cell_type": "code",
   "execution_count": 1,
   "id": "221ea7b8",
   "metadata": {},
   "outputs": [
    {
     "name": "stderr",
     "output_type": "stream",
     "text": [
      "2023-05-19 17:53:30.744756: I tensorflow/core/platform/cpu_feature_guard.cc:193] This TensorFlow binary is optimized with oneAPI Deep Neural Network Library (oneDNN) to use the following CPU instructions in performance-critical operations:  AVX2 AVX512F AVX512_VNNI FMA\n",
      "To enable them in other operations, rebuild TensorFlow with the appropriate compiler flags.\n",
      "2023-05-19 17:53:30.858166: I tensorflow/core/util/port.cc:104] oneDNN custom operations are on. You may see slightly different numerical results due to floating-point round-off errors from different computation orders. To turn them off, set the environment variable `TF_ENABLE_ONEDNN_OPTS=0`.\n",
      "2023-05-19 17:53:31.420983: W tensorflow/compiler/xla/stream_executor/platform/default/dso_loader.cc:64] Could not load dynamic library 'libnvinfer.so.7'; dlerror: libnvinfer.so.7: cannot open shared object file: No such file or directory\n",
      "2023-05-19 17:53:31.421083: W tensorflow/compiler/xla/stream_executor/platform/default/dso_loader.cc:64] Could not load dynamic library 'libnvinfer_plugin.so.7'; dlerror: libnvinfer_plugin.so.7: cannot open shared object file: No such file or directory\n",
      "2023-05-19 17:53:31.421093: W tensorflow/compiler/tf2tensorrt/utils/py_utils.cc:38] TF-TRT Warning: Cannot dlopen some TensorRT libraries. If you would like to use Nvidia GPU with TensorRT, please make sure the missing libraries mentioned above are installed properly.\n"
     ]
    }
   ],
   "source": [
    "import matplotlib.pyplot as plt\n",
    "import numpy as np\n",
    "import random\n",
    "import pandas as pd\n",
    "import tensorflow as tf\n",
    "import math\n",
    "from tensorflow.keras.applications.resnet50 import ResNet50\n",
    "from sklearn.metrics import classification_report, confusion_matrix, ConfusionMatrixDisplay\n",
    "from tensorflow.keras.layers import Dense, Dropout, Flatten\n",
    "from tensorflow.keras.models import Model\n",
    "import os \n",
    "import glob\n",
    "import shutil\n",
    "import seaborn as sns\n",
    "import numpy as np\n",
    "from tensorflow.keras.layers import Input, Conv2D, Dense, Flatten, Dropout, BatchNormalization, MaxPooling2D,GlobalAveragePooling2D\n",
    "from tensorflow.keras.models import Model, Sequential\n",
    "from tensorflow.keras.optimizers import Adam\n",
    "from tensorflow.keras.applications.resnet50 import ResNet50\n",
    "from tensorflow.keras.callbacks import EarlyStopping,ModelCheckpoint, LearningRateScheduler\n",
    "from tensorflow.keras import regularizers\n",
    "from tensorflow.keras.models import load_model"
   ]
  },
  {
   "cell_type": "code",
   "execution_count": 2,
   "id": "e1846eeb",
   "metadata": {},
   "outputs": [
    {
     "name": "stderr",
     "output_type": "stream",
     "text": [
      "2023-05-19 17:53:32.606840: I tensorflow/compiler/xla/stream_executor/cuda/cuda_gpu_executor.cc:981] successful NUMA node read from SysFS had negative value (-1), but there must be at least one NUMA node, so returning NUMA node zero\n",
      "2023-05-19 17:53:32.609986: I tensorflow/compiler/xla/stream_executor/cuda/cuda_gpu_executor.cc:981] successful NUMA node read from SysFS had negative value (-1), but there must be at least one NUMA node, so returning NUMA node zero\n",
      "2023-05-19 17:53:32.622133: I tensorflow/compiler/xla/stream_executor/cuda/cuda_gpu_executor.cc:981] successful NUMA node read from SysFS had negative value (-1), but there must be at least one NUMA node, so returning NUMA node zero\n",
      "2023-05-19 17:53:32.625144: I tensorflow/compiler/xla/stream_executor/cuda/cuda_gpu_executor.cc:981] successful NUMA node read from SysFS had negative value (-1), but there must be at least one NUMA node, so returning NUMA node zero\n",
      "2023-05-19 17:53:32.628962: I tensorflow/compiler/xla/stream_executor/cuda/cuda_gpu_executor.cc:981] successful NUMA node read from SysFS had negative value (-1), but there must be at least one NUMA node, so returning NUMA node zero\n",
      "2023-05-19 17:53:32.631958: I tensorflow/compiler/xla/stream_executor/cuda/cuda_gpu_executor.cc:981] successful NUMA node read from SysFS had negative value (-1), but there must be at least one NUMA node, so returning NUMA node zero\n",
      "2023-05-19 17:53:32.636030: I tensorflow/core/platform/cpu_feature_guard.cc:193] This TensorFlow binary is optimized with oneAPI Deep Neural Network Library (oneDNN) to use the following CPU instructions in performance-critical operations:  AVX2 AVX512F AVX512_VNNI FMA\n",
      "To enable them in other operations, rebuild TensorFlow with the appropriate compiler flags.\n",
      "2023-05-19 17:53:32.983588: I tensorflow/compiler/xla/stream_executor/cuda/cuda_gpu_executor.cc:981] successful NUMA node read from SysFS had negative value (-1), but there must be at least one NUMA node, so returning NUMA node zero\n",
      "2023-05-19 17:53:32.986798: I tensorflow/compiler/xla/stream_executor/cuda/cuda_gpu_executor.cc:981] successful NUMA node read from SysFS had negative value (-1), but there must be at least one NUMA node, so returning NUMA node zero\n",
      "2023-05-19 17:53:32.989895: I tensorflow/compiler/xla/stream_executor/cuda/cuda_gpu_executor.cc:981] successful NUMA node read from SysFS had negative value (-1), but there must be at least one NUMA node, so returning NUMA node zero\n",
      "2023-05-19 17:53:32.992889: I tensorflow/compiler/xla/stream_executor/cuda/cuda_gpu_executor.cc:981] successful NUMA node read from SysFS had negative value (-1), but there must be at least one NUMA node, so returning NUMA node zero\n",
      "2023-05-19 17:53:32.995936: I tensorflow/compiler/xla/stream_executor/cuda/cuda_gpu_executor.cc:981] successful NUMA node read from SysFS had negative value (-1), but there must be at least one NUMA node, so returning NUMA node zero\n",
      "2023-05-19 17:53:32.998934: I tensorflow/compiler/xla/stream_executor/cuda/cuda_gpu_executor.cc:981] successful NUMA node read from SysFS had negative value (-1), but there must be at least one NUMA node, so returning NUMA node zero\n",
      "2023-05-19 17:53:33.962560: I tensorflow/compiler/xla/stream_executor/cuda/cuda_gpu_executor.cc:981] successful NUMA node read from SysFS had negative value (-1), but there must be at least one NUMA node, so returning NUMA node zero\n",
      "2023-05-19 17:53:33.965871: I tensorflow/compiler/xla/stream_executor/cuda/cuda_gpu_executor.cc:981] successful NUMA node read from SysFS had negative value (-1), but there must be at least one NUMA node, so returning NUMA node zero\n",
      "2023-05-19 17:53:33.969150: I tensorflow/compiler/xla/stream_executor/cuda/cuda_gpu_executor.cc:981] successful NUMA node read from SysFS had negative value (-1), but there must be at least one NUMA node, so returning NUMA node zero\n",
      "2023-05-19 17:53:33.972170: I tensorflow/compiler/xla/stream_executor/cuda/cuda_gpu_executor.cc:981] successful NUMA node read from SysFS had negative value (-1), but there must be at least one NUMA node, so returning NUMA node zero\n",
      "2023-05-19 17:53:33.975192: I tensorflow/compiler/xla/stream_executor/cuda/cuda_gpu_executor.cc:981] successful NUMA node read from SysFS had negative value (-1), but there must be at least one NUMA node, so returning NUMA node zero\n",
      "2023-05-19 17:53:33.978129: I tensorflow/core/common_runtime/gpu/gpu_device.cc:1613] Created device /job:localhost/replica:0/task:0/device:GPU:0 with 77887 MB memory:  -> device: 0, name: NVIDIA A100 80GB PCIe, pci bus id: 0000:00:0d.0, compute capability: 8.0\n",
      "2023-05-19 17:53:33.978527: I tensorflow/compiler/xla/stream_executor/cuda/cuda_gpu_executor.cc:981] successful NUMA node read from SysFS had negative value (-1), but there must be at least one NUMA node, so returning NUMA node zero\n",
      "2023-05-19 17:53:33.981477: I tensorflow/core/common_runtime/gpu/gpu_device.cc:1613] Created device /job:localhost/replica:0/task:0/device:GPU:1 with 78860 MB memory:  -> device: 1, name: NVIDIA A100 80GB PCIe, pci bus id: 0000:00:0e.0, compute capability: 8.0\n"
     ]
    }
   ],
   "source": [
    "# model1_d1 = load_model('../xray/TRAINED_MODELS/d1/model_1_97_94.h5')\n",
    "# model2_d1 = load_model('../xray/TRAINED_MODELS/d1/xception_model_3_(1)_xx_xx.h5')\n",
    "\n",
    "model1 = load_model('../xray/TRAINED_MODELS/1_MOBILENET.h5')\n",
    "#model2 = load_model('../xray/TRAINED_MODELS/2_RESNET.h5')\n",
    "model2 = load_model('../xray/TRAINED_MODELS/d2/MODEL_d2-XCEPTION(1).h5')\n",
    "model3 = load_model('../xray/TRAINED_MODELS/3_XCEPTION.h5')"
   ]
  },
  {
   "cell_type": "code",
   "execution_count": 4,
   "id": "fc7bf741",
   "metadata": {},
   "outputs": [
    {
     "name": "stdout",
     "output_type": "stream",
     "text": [
      "Found 23472 files belonging to 5 classes.\n",
      "Using 21125 files for training.\n",
      "Found 23472 files belonging to 5 classes.\n",
      "Using 2347 files for validation.\n",
      "Found 21239 files belonging to 5 classes.\n",
      "Using 19116 files for training.\n",
      "Found 21239 files belonging to 5 classes.\n",
      "Using 2123 files for validation.\n",
      "Found 21852 files belonging to 5 classes.\n",
      "Using 19667 files for training.\n",
      "Found 21852 files belonging to 5 classes.\n",
      "Using 2185 files for validation.\n"
     ]
    }
   ],
   "source": [
    "# Load datasets\n",
    "dataset1_images = \"../xray/CLAHE_dataset_1/DATASET\"\n",
    "train_dataset_1 = tf.keras.preprocessing.image_dataset_from_directory(dataset1_images, validation_split=0.1, subset=\"training\", seed=42, batch_size=32, smart_resize=True, image_size=(256, 256))\n",
    "test_dataset_1 = tf.keras.preprocessing.image_dataset_from_directory(dataset1_images, validation_split=0.1, subset=\"validation\", seed=42, batch_size=32, smart_resize=True, image_size=(256, 256))\n",
    "\n",
    "dataset2_images = \"../xray/CLAHE_dataset_2_altern/DATASET\"\n",
    "train_dataset_2 = tf.keras.preprocessing.image_dataset_from_directory(dataset2_images, validation_split=0.1, subset=\"training\", seed=42, batch_size=32, smart_resize=True, image_size=(256, 256))\n",
    "test_dataset_2 = tf.keras.preprocessing.image_dataset_from_directory(dataset2_images, validation_split=0.1, subset=\"validation\", seed=42, batch_size=32, smart_resize=True, image_size=(256, 256))\n",
    "\n",
    "dataset3_images = \"../xray/CLAHE_dataset_3_altern/DATASET\"\n",
    "train_dataset_3 = tf.keras.preprocessing.image_dataset_from_directory(dataset3_images, validation_split=0.1, subset=\"training\", seed=42, batch_size=32, smart_resize=True, image_size=(256, 256))\n",
    "test_dataset_3 = tf.keras.preprocessing.image_dataset_from_directory(dataset3_images, validation_split=0.1, subset=\"validation\", seed=42, batch_size=32, smart_resize=True, image_size=(256, 256))\n",
    "\n",
    "AUTOTUNE = tf.data.AUTOTUNE\n",
    "\n",
    "combined_train_dataset = train_dataset_1.concatenate(train_dataset_2).concatenate(train_dataset_3)\n",
    "combined_test_dataset = test_dataset_1.concatenate(test_dataset_2).concatenate(test_dataset_3)\n",
    "train_dataset_all = combined_train_dataset.prefetch(buffer_size=AUTOTUNE)\n",
    "test_dataset_all = combined_test_dataset.prefetch(buffer_size=AUTOTUNE)"
   ]
  },
  {
   "cell_type": "code",
   "execution_count": 4,
   "id": "80cfd484",
   "metadata": {},
   "outputs": [],
   "source": [
    "combined_dataset = test_dataset_1.concatenate(test_dataset_2).concatenate(test_dataset_3)"
   ]
  },
  {
   "cell_type": "code",
   "execution_count": 5,
   "id": "78077b52",
   "metadata": {},
   "outputs": [],
   "source": [
    "#classes = combined_dataset.class_names\n",
    "#numClasses = len(combined_dataset.class_names)\n",
    "#print(classes)\n",
    "#AUTOTUNE = tf.data.AUTOTUNE\n",
    "\n",
    "test_dataset_all = combined_dataset.prefetch(buffer_size=AUTOTUNE)"
   ]
  },
  {
   "cell_type": "code",
   "execution_count": 5,
   "id": "df91071e",
   "metadata": {},
   "outputs": [],
   "source": [
    "classes = ['Bacterial Pneumonia', 'COVID', 'Normal', 'Tuberculosis', 'Viral Pneumonia']"
   ]
  },
  {
   "cell_type": "code",
   "execution_count": 12,
   "id": "78ce180b",
   "metadata": {},
   "outputs": [],
   "source": [
    "from tensorflow.keras.layers import Input, Average\n",
    "model1 = Model(inputs=model1.inputs, outputs=model1.outputs,name='name_of_model1')\n",
    "model2 = Model(inputs=model2.inputs, outputs=model2.outputs,name='name_of_model2')\n",
    "model3 = Model(inputs=model3.inputs, outputs=model3.outputs,name='name_of_model3')\n",
    "models = [model1,model2,model3]\n",
    "\n",
    "model_input=Input(shape=(256,256,3))\n",
    "model_outputs=[model(model_input) for model in models]\n",
    "ensemble_output = Average()(model_outputs)\n",
    "ensemble_model = Model(inputs=model_input, outputs=ensemble_output, name='ensemble')"
   ]
  },
  {
   "cell_type": "code",
   "execution_count": 13,
   "id": "f4d06daa",
   "metadata": {},
   "outputs": [],
   "source": [
    "ensemble_model.compile(optimizer=tf.keras.optimizers.SGD(learning_rate=0.1), loss=tf.losses.SparseCategoricalCrossentropy(), metrics=['accuracy'])"
   ]
  },
  {
   "cell_type": "code",
   "execution_count": 14,
   "id": "16ec4b0e",
   "metadata": {},
   "outputs": [
    {
     "name": "stdout",
     "output_type": "stream",
     "text": [
      "Epoch 1/5\n",
      "1874/1874 [==============================] - 392s 195ms/step - loss: 0.1315 - accuracy: 0.9650 - val_loss: 0.1289 - val_accuracy: 0.9633\n",
      "Epoch 2/5\n",
      "1874/1874 [==============================] - 365s 195ms/step - loss: 0.1025 - accuracy: 0.9767 - val_loss: 0.1116 - val_accuracy: 0.9737\n",
      "Epoch 3/5\n",
      "1874/1874 [==============================] - 365s 195ms/step - loss: 0.0915 - accuracy: 0.9806 - val_loss: 0.1019 - val_accuracy: 0.9707\n",
      "Epoch 4/5\n",
      "1874/1874 [==============================] - 365s 195ms/step - loss: 0.0827 - accuracy: 0.9827 - val_loss: 0.0976 - val_accuracy: 0.9739\n",
      "Epoch 5/5\n",
      "1874/1874 [==============================] - 365s 195ms/step - loss: 0.0745 - accuracy: 0.9843 - val_loss: 0.1018 - val_accuracy: 0.9727\n"
     ]
    }
   ],
   "source": [
    "history=ensemble_model.fit(\n",
    "train_dataset_all,\n",
    "validation_data=test_dataset_all,\n",
    "epochs=5)"
   ]
  },
  {
   "cell_type": "code",
   "execution_count": 19,
   "id": "a1f3acad",
   "metadata": {},
   "outputs": [
    {
     "ename": "ValueError",
     "evalue": "Unable to create dataset (name already exists)",
     "output_type": "error",
     "traceback": [
      "\u001b[0;31m---------------------------------------------------------------------------\u001b[0m",
      "\u001b[0;31mValueError\u001b[0m                                Traceback (most recent call last)",
      "Cell \u001b[0;32mIn[19], line 2\u001b[0m\n\u001b[1;32m      1\u001b[0m \u001b[38;5;28;01mfrom\u001b[39;00m \u001b[38;5;21;01mtensorflow\u001b[39;00m\u001b[38;5;21;01m.\u001b[39;00m\u001b[38;5;21;01mkeras\u001b[39;00m \u001b[38;5;28;01mimport\u001b[39;00m Model\n\u001b[0;32m----> 2\u001b[0m \u001b[43mensemble_model\u001b[49m\u001b[38;5;241;43m.\u001b[39;49m\u001b[43msave\u001b[49m\u001b[43m(\u001b[49m\u001b[38;5;124;43m'\u001b[39;49m\u001b[38;5;124;43maverage_ensembled_model_98_97.h5\u001b[39;49m\u001b[38;5;124;43m'\u001b[39;49m\u001b[43m)\u001b[49m\n",
      "File \u001b[0;32m~/.local/lib/python3.9/site-packages/keras/utils/traceback_utils.py:70\u001b[0m, in \u001b[0;36mfilter_traceback.<locals>.error_handler\u001b[0;34m(*args, **kwargs)\u001b[0m\n\u001b[1;32m     67\u001b[0m     filtered_tb \u001b[38;5;241m=\u001b[39m _process_traceback_frames(e\u001b[38;5;241m.\u001b[39m__traceback__)\n\u001b[1;32m     68\u001b[0m     \u001b[38;5;66;03m# To get the full stack trace, call:\u001b[39;00m\n\u001b[1;32m     69\u001b[0m     \u001b[38;5;66;03m# `tf.debugging.disable_traceback_filtering()`\u001b[39;00m\n\u001b[0;32m---> 70\u001b[0m     \u001b[38;5;28;01mraise\u001b[39;00m e\u001b[38;5;241m.\u001b[39mwith_traceback(filtered_tb) \u001b[38;5;28;01mfrom\u001b[39;00m \u001b[38;5;28;01mNone\u001b[39;00m\n\u001b[1;32m     71\u001b[0m \u001b[38;5;28;01mfinally\u001b[39;00m:\n\u001b[1;32m     72\u001b[0m     \u001b[38;5;28;01mdel\u001b[39;00m filtered_tb\n",
      "File \u001b[0;32m~/.local/lib/python3.9/site-packages/h5py/_hl/group.py:183\u001b[0m, in \u001b[0;36mGroup.create_dataset\u001b[0;34m(self, name, shape, dtype, data, **kwds)\u001b[0m\n\u001b[1;32m    180\u001b[0m         parent_path, name \u001b[38;5;241m=\u001b[39m name\u001b[38;5;241m.\u001b[39mrsplit(\u001b[38;5;124mb\u001b[39m\u001b[38;5;124m'\u001b[39m\u001b[38;5;124m/\u001b[39m\u001b[38;5;124m'\u001b[39m, \u001b[38;5;241m1\u001b[39m)\n\u001b[1;32m    181\u001b[0m         group \u001b[38;5;241m=\u001b[39m \u001b[38;5;28mself\u001b[39m\u001b[38;5;241m.\u001b[39mrequire_group(parent_path)\n\u001b[0;32m--> 183\u001b[0m dsid \u001b[38;5;241m=\u001b[39m dataset\u001b[38;5;241m.\u001b[39mmake_new_dset(group, shape, dtype, data, name, \u001b[38;5;241m*\u001b[39m\u001b[38;5;241m*\u001b[39mkwds)\n\u001b[1;32m    184\u001b[0m dset \u001b[38;5;241m=\u001b[39m dataset\u001b[38;5;241m.\u001b[39mDataset(dsid)\n\u001b[1;32m    185\u001b[0m \u001b[38;5;28;01mreturn\u001b[39;00m dset\n",
      "File \u001b[0;32m~/.local/lib/python3.9/site-packages/h5py/_hl/dataset.py:165\u001b[0m, in \u001b[0;36mmake_new_dset\u001b[0;34m(parent, shape, dtype, data, name, chunks, compression, shuffle, fletcher32, maxshape, compression_opts, fillvalue, scaleoffset, track_times, external, track_order, dcpl, dapl, efile_prefix, virtual_prefix, allow_unknown_filter, rdcc_nslots, rdcc_nbytes, rdcc_w0)\u001b[0m\n\u001b[1;32m    162\u001b[0m \u001b[38;5;28;01melse\u001b[39;00m:\n\u001b[1;32m    163\u001b[0m     sid \u001b[38;5;241m=\u001b[39m h5s\u001b[38;5;241m.\u001b[39mcreate_simple(shape, maxshape)\n\u001b[0;32m--> 165\u001b[0m dset_id \u001b[38;5;241m=\u001b[39m \u001b[43mh5d\u001b[49m\u001b[38;5;241;43m.\u001b[39;49m\u001b[43mcreate\u001b[49m\u001b[43m(\u001b[49m\u001b[43mparent\u001b[49m\u001b[38;5;241;43m.\u001b[39;49m\u001b[43mid\u001b[49m\u001b[43m,\u001b[49m\u001b[43m \u001b[49m\u001b[43mname\u001b[49m\u001b[43m,\u001b[49m\u001b[43m \u001b[49m\u001b[43mtid\u001b[49m\u001b[43m,\u001b[49m\u001b[43m \u001b[49m\u001b[43msid\u001b[49m\u001b[43m,\u001b[49m\u001b[43m \u001b[49m\u001b[43mdcpl\u001b[49m\u001b[38;5;241;43m=\u001b[39;49m\u001b[43mdcpl\u001b[49m\u001b[43m,\u001b[49m\u001b[43m \u001b[49m\u001b[43mdapl\u001b[49m\u001b[38;5;241;43m=\u001b[39;49m\u001b[43mdapl\u001b[49m\u001b[43m)\u001b[49m\n\u001b[1;32m    167\u001b[0m \u001b[38;5;28;01mif\u001b[39;00m (data \u001b[38;5;129;01mis\u001b[39;00m \u001b[38;5;129;01mnot\u001b[39;00m \u001b[38;5;28;01mNone\u001b[39;00m) \u001b[38;5;129;01mand\u001b[39;00m (\u001b[38;5;129;01mnot\u001b[39;00m \u001b[38;5;28misinstance\u001b[39m(data, Empty)):\n\u001b[1;32m    168\u001b[0m     dset_id\u001b[38;5;241m.\u001b[39mwrite(h5s\u001b[38;5;241m.\u001b[39mALL, h5s\u001b[38;5;241m.\u001b[39mALL, data)\n",
      "File \u001b[0;32mh5py/_objects.pyx:54\u001b[0m, in \u001b[0;36mh5py._objects.with_phil.wrapper\u001b[0;34m()\u001b[0m\n",
      "File \u001b[0;32mh5py/_objects.pyx:55\u001b[0m, in \u001b[0;36mh5py._objects.with_phil.wrapper\u001b[0;34m()\u001b[0m\n",
      "File \u001b[0;32mh5py/h5d.pyx:135\u001b[0m, in \u001b[0;36mh5py.h5d.create\u001b[0;34m()\u001b[0m\n",
      "\u001b[0;31mValueError\u001b[0m: Unable to create dataset (name already exists)"
     ]
    }
   ],
   "source": [
    "#from tensorflow.keras import Model\n",
    "ensemble_model.save('average_ensembled_model_98_97.h5')"
   ]
  },
  {
   "cell_type": "code",
   "execution_count": 21,
   "id": "8cf2983a",
   "metadata": {},
   "outputs": [
    {
     "name": "stderr",
     "output_type": "stream",
     "text": [
      "Predicting: 100%|██████████| 210/210 [00:53<00:00,  3.90it/s]"
     ]
    },
    {
     "name": "stdout",
     "output_type": "stream",
     "text": [
      "Accuracy: 0.9726521412471826\n",
      "Precision: 0.9656057976906244\n",
      "Recall: 0.9593202205157578\n",
      "F1-score: 0.9619772509540884\n",
      "Confusion Matrix:\n",
      "[[1127    0    0    2   34]\n",
      " [   0 1667    7    4    1]\n",
      " [   0   19 2641    1    0]\n",
      " [   0   10    1  298    0]\n",
      " [ 103    0    0    0  740]]\n"
     ]
    },
    {
     "name": "stderr",
     "output_type": "stream",
     "text": [
      "\n"
     ]
    }
   ],
   "source": [
    "import numpy as np\n",
    "from tqdm import tqdm\n",
    "from sklearn.metrics import accuracy_score, precision_score, recall_score, f1_score, confusion_matrix\n",
    "# Загрузите и создайте экземпляры моделей model1, model2, model3\n",
    "\n",
    "targets_ens = []\n",
    "predictions_ens = []\n",
    "\n",
    "for images, labels in tqdm(test_dataset_all, desc=\"Predicting\"):\n",
    "    targets_ens.extend(labels.numpy())  # Добавьте фактические метки классов в список targets\n",
    "    preds = ensemble_model(images)\n",
    "    #print(preds)\n",
    "    pred_classes = np.argmax(preds, axis=1)  # Преобразуйте предсказания в метки классов\n",
    "    predictions_ens.extend(pred_classes)\n",
    "# Вычислите метрики оценки модели, используя targets и predictions\n",
    "\n",
    "# Пример вычисления точности\n",
    "accuracy = np.mean(np.array(targets_ens) == np.array(predictions_ens))\n",
    "y_true = targets_ens  # Истинные метки классов\n",
    "y_pred = predictions_ens # Предсказанные метки классов\n",
    "\n",
    "# Расчет Accuracy (Точность)\n",
    "accuracy = accuracy_score(y_true, y_pred)\n",
    "print(\"Accuracy:\", accuracy)\n",
    "\n",
    "# Расчет Precision (Точность)\n",
    "precision = precision_score(y_true, y_pred, average='macro')\n",
    "print(\"Precision:\", precision)\n",
    "\n",
    "# Расчет Recall (Полнота)\n",
    "recall = recall_score(y_true, y_pred, average='macro')\n",
    "print(\"Recall:\", recall)\n",
    "\n",
    "# Расчет F1-score (F1-мера)\n",
    "f1 = f1_score(y_true, y_pred, average='macro')\n",
    "print(\"F1-score:\", f1)\n",
    "\n",
    "# Расчет матрицы ошибок (Confusion Matrix)\n",
    "confusion_mat = confusion_matrix(y_true, y_pred)\n",
    "print(\"Confusion Matrix:\")\n",
    "print(confusion_mat)"
   ]
  },
  {
   "cell_type": "code",
   "execution_count": 23,
   "id": "ba7834d2",
   "metadata": {},
   "outputs": [
    {
     "data": {
      "text/plain": [
       "(0.9619772509540884, 0.9726521412471826)"
      ]
     },
     "execution_count": 23,
     "metadata": {},
     "output_type": "execute_result"
    }
   ],
   "source": [
    "from sklearn.metrics import f1_score\n",
    "f1_score(targets_ens, predictions_ens, average='macro'), f1_score(targets_ens, predictions_ens, average='micro')"
   ]
  },
  {
   "cell_type": "code",
   "execution_count": 22,
   "id": "ea6636ab",
   "metadata": {},
   "outputs": [
    {
     "data": {
      "image/png": "[encoded data removed]",
      "text/plain": [
       "<Figure size 800x600 with 2 Axes>"
      ]
     },
     "metadata": {},
     "output_type": "display_data"
    }
   ],
   "source": [
    "def plot_confusion_matrix(cm, target_names, cmap=None):\n",
    "    import matplotlib.pyplot as plt\n",
    "    import numpy as np\n",
    "    import itertools\n",
    "\n",
    "    accuracy = np.trace(cm) / float(np.sum(cm))\n",
    "    misclass = 1 - accuracy\n",
    "\n",
    "    if cmap is None:\n",
    "        cmap = plt.get_cmap('Blues')\n",
    "\n",
    "    plt.figure(figsize=(8, 6))\n",
    "    plt.imshow(cm, interpolation='nearest', cmap=cmap)\n",
    "    plt.title('Confusion matrix')\n",
    "    plt.colorbar()\n",
    "\n",
    "    if target_names is not None:\n",
    "        tick_marks = np.arange(len(target_names))\n",
    "        plt.xticks(tick_marks, target_names, rotation=45)\n",
    "        plt.yticks(tick_marks, target_names)\n",
    "\n",
    "    for i, j in itertools.product(range(cm.shape[0]), range(cm.shape[1])):\n",
    "            plt.text(j, i, \"{:,}\".format(cm[i, j]),\n",
    "                     horizontalalignment=\"center\",\n",
    "                     color=\"black\")\n",
    "\n",
    "    plt.tight_layout()\n",
    "    plt.ylabel('True label')\n",
    "    plt.xlabel('Predicted label\\naccuracy={:0.4f}%; misclass={:0.4f}%'.format(accuracy, misclass))\n",
    "    plt.show()\n",
    "plot_confusion_matrix(confusion_mat, classes)"
   ]
  },
  {
   "cell_type": "code",
   "execution_count": 10,
   "id": "b33de8d2",
   "metadata": {
    "scrolled": true
   },
   "outputs": [
    {
     "name": "stderr",
     "output_type": "stream",
     "text": [
      "Predicting: 100%|██████████| 210/210 [00:52<00:00,  3.98it/s]"
     ]
    },
    {
     "name": "stdout",
     "output_type": "stream",
     "text": [
      "Accuracy: 0.9406461307287753\n",
      "Precision: 0.9244705503026418\n",
      "Recall: 0.8950232492580563\n",
      "F1-score: 0.9080354489332692\n"
     ]
    },
    {
     "name": "stderr",
     "output_type": "stream",
     "text": [
      "\n"
     ]
    },
    {
     "ename": "TypeError",
     "evalue": "list indices must be integers or slices, not tuple",
     "output_type": "error",
     "traceback": [
      "\u001b[0;31m---------------------------------------------------------------------------\u001b[0m",
      "\u001b[0;31mTypeError\u001b[0m                                 Traceback (most recent call last)",
      "Cell \u001b[0;32mIn[10], line 59\u001b[0m\n\u001b[1;32m     57\u001b[0m roc_auc \u001b[38;5;241m=\u001b[39m \u001b[38;5;28mdict\u001b[39m()\n\u001b[1;32m     58\u001b[0m \u001b[38;5;28;01mfor\u001b[39;00m i \u001b[38;5;129;01min\u001b[39;00m \u001b[38;5;28mrange\u001b[39m(n_classes):\n\u001b[0;32m---> 59\u001b[0m     fpr[i], tpr[i], _ \u001b[38;5;241m=\u001b[39m roc_curve(y_true_binarized[:, i], \u001b[43my_pred\u001b[49m\u001b[43m[\u001b[49m\u001b[43m:\u001b[49m\u001b[43m,\u001b[49m\u001b[43m \u001b[49m\u001b[43mi\u001b[49m\u001b[43m]\u001b[49m)\n\u001b[1;32m     60\u001b[0m     roc_auc[i] \u001b[38;5;241m=\u001b[39m auc(fpr[i], tpr[i])\n\u001b[1;32m     62\u001b[0m \u001b[38;5;66;03m# Compute micro-average ROC curve and AUC\u001b[39;00m\n",
      "\u001b[0;31mTypeError\u001b[0m: list indices must be integers or slices, not tuple"
     ]
    }
   ],
   "source": [
    "import numpy as np\n",
    "from tqdm import tqdm\n",
    "import numpy as np\n",
    "from sklearn.metrics import accuracy_score, precision_score, recall_score, f1_score, confusion_matrix\n",
    "# Загрузите и создайте экземпляры моделей model1, model2, model3\n",
    "\n",
    "def predict(x):\n",
    "    pred1 = model1(x)\n",
    "    pred2 = model2(x)\n",
    "    pred3 = model3(x)\n",
    "    pred_union = (pred1 + pred2 + pred3) / 3\n",
    "    #pred_union = np.mean(pred1, pred2, pred3)\n",
    "    return pred_union\n",
    "\n",
    "targets = []\n",
    "predictions = []\n",
    "\n",
    "for images, labels in tqdm(test_dataset_all, desc=\"Predicting\"):\n",
    "    targets.extend(labels.numpy())  # Добавьте фактические метки классов в список targets\n",
    "    preds = predict(images)\n",
    "    #print(preds)\n",
    "    pred_classes = np.argmax(preds, axis=1)  # Преобразуйте предсказания в метки классов\n",
    "    predictions.extend(pred_classes)\n",
    "# Вычислите метрики оценки модели, используя targets и predictions\n",
    "\n",
    "# Пример вычисления точности\n",
    "accuracy = np.mean(np.array(targets) == np.array(predictions))\n",
    "y_true = targets  # Истинные метки классов\n",
    "y_pred = predictions # Предсказанные метки классов\n",
    "\n",
    "# Расчет Accuracy (Точность)\n",
    "accuracy = accuracy_score(y_true, y_pred)\n",
    "print(\"Accuracy:\", accuracy)\n",
    "\n",
    "# Расчет Precision (Точность)\n",
    "precision = precision_score(y_true, y_pred, average='macro')\n",
    "print(\"Precision:\", precision)\n",
    "\n",
    "# Расчет Recall (Полнота)\n",
    "recall = recall_score(y_true, y_pred, average='macro')\n",
    "print(\"Recall:\", recall)\n",
    "\n",
    "# Расчет F1-score (F1-мера)\n",
    "f1 = f1_score(y_true, y_pred, average='macro')\n",
    "print(\"F1-score:\", f1)\n",
    "\n",
    "# Расчет матрицы ошибок (Confusion Matrix)\n",
    "confusion_mat = confusion_matrix(y_true, y_pred)\n",
    "print(\"Confusion Matrix:\")\n",
    "print(confusion_mat)"
   ]
  },
  {
   "cell_type": "code",
   "execution_count": null,
   "id": "cb7c99dd",
   "metadata": {},
   "outputs": [],
   "source": [
    "# Построение ROC-кривой\n",
    "plt.plot(fpr, tpr, label='ROC curve (area = %0.2f)' % auc)\n",
    "plt.plot([0, 1], [0, 1], 'k--')  # Случайная модель (baseline)\n",
    "plt.xlim([0.0, 1.0])\n",
    "plt.ylim([0.0, 1.05])\n",
    "plt.xlabel('False Positive Rate')\n",
    "plt.ylabel('True Positive Rate')\n",
    "plt.title('Receiver Operating Characteristic')\n",
    "plt.legend(loc=\"lower right\")\n",
    "plt.show()"
   ]
  },
  {
   "cell_type": "code",
   "execution_count": 15,
   "id": "71c9d297",
   "metadata": {},
   "outputs": [
    {
     "data": {
      "text/plain": [
       "6655"
      ]
     },
     "execution_count": 15,
     "metadata": {},
     "output_type": "execute_result"
    }
   ],
   "source": [
    "len(targets)"
   ]
  },
  {
   "cell_type": "code",
   "execution_count": 16,
   "id": "47491bd2",
   "metadata": {},
   "outputs": [
    {
     "data": {
      "text/plain": [
       "6655"
      ]
     },
     "execution_count": 16,
     "metadata": {},
     "output_type": "execute_result"
    }
   ],
   "source": [
    "len(predictions)"
   ]
  },
  {
   "cell_type": "code",
   "execution_count": 17,
   "id": "619398d7",
   "metadata": {},
   "outputs": [
    {
     "data": {
      "text/plain": [
       "(0.9080354489332692, 0.9406461307287753)"
      ]
     },
     "execution_count": 17,
     "metadata": {},
     "output_type": "execute_result"
    }
   ],
   "source": [
    "from sklearn.metrics import f1_score\n",
    "f1_score(targets, predictions, average='macro'), f1_score(targets, predictions, average='micro')"
   ]
  },
  {
   "cell_type": "code",
   "execution_count": 18,
   "id": "e94fd08e",
   "metadata": {},
   "outputs": [
    {
     "name": "stderr",
     "output_type": "stream",
     "text": [
      "Predicting: 100%|██████████| 210/210 [00:22<00:00,  9.38it/s]"
     ]
    },
    {
     "name": "stdout",
     "output_type": "stream",
     "text": [
      "Accuracy: 0.9030803906836965\n",
      "Precision: 0.89083281068574\n",
      "Recall: 0.7786529943191984\n",
      "F1-score: 0.7985103726246593\n",
      "Confusion Matrix:\n",
      "[[ 975    9    7    0  172]\n",
      " [   4 1647   22    3    3]\n",
      " [   8   14 2620    2   17]\n",
      " [   2  101  119   87    0]\n",
      " [ 150    0   12    0  681]]\n"
     ]
    },
    {
     "name": "stderr",
     "output_type": "stream",
     "text": [
      "\n"
     ]
    }
   ],
   "source": [
    "import numpy as np\n",
    "from tqdm import tqdm\n",
    "# Загрузите и создайте экземпляры моделей model1, model2, model3\n",
    "\n",
    "targets1 = []\n",
    "predictions1 = []\n",
    "\n",
    "for images, labels in tqdm(test_dataset_all, desc=\"Predicting\"):\n",
    "    targets1.extend(labels.numpy())  # Добавьте фактические метки классов в список targets\n",
    "    preds = model1(images)\n",
    "    #print(preds)\n",
    "    pred_classes = np.argmax(preds, axis=1)  # Преобразуйте предсказания в метки классов\n",
    "    predictions1.extend(pred_classes)\n",
    "# Вычислите метрики оценки модели, используя targets и predictions\n",
    "\n",
    "# Пример вычисления точности\n",
    "accuracy = np.mean(np.array(targets1) == np.array(predictions1))\n",
    "y_true = targets1  # Истинные метки классов\n",
    "y_pred = predictions1 # Предсказанные метки классов\n",
    "\n",
    "# Расчет Accuracy (Точность)\n",
    "accuracy = accuracy_score(y_true, y_pred)\n",
    "print(\"Accuracy:\", accuracy)\n",
    "\n",
    "# Расчет Precision (Точность)\n",
    "precision = precision_score(y_true, y_pred, average='macro')\n",
    "print(\"Precision:\", precision)\n",
    "\n",
    "# Расчет Recall (Полнота)\n",
    "recall = recall_score(y_true, y_pred, average='macro')\n",
    "print(\"Recall:\", recall)\n",
    "\n",
    "# Расчет F1-score (F1-мера)\n",
    "f1 = f1_score(y_true, y_pred, average='macro')\n",
    "print(\"F1-score:\", f1)\n",
    "\n",
    "# Расчет матрицы ошибок (Confusion Matrix)\n",
    "confusion_mat = confusion_matrix(y_true, y_pred)\n",
    "print(\"Confusion Matrix:\")\n",
    "print(confusion_mat)"
   ]
  },
  {
   "cell_type": "code",
   "execution_count": 19,
   "id": "3130f997",
   "metadata": {},
   "outputs": [
    {
     "name": "stderr",
     "output_type": "stream",
     "text": [
      "Predicting: 100%|██████████| 210/210 [00:20<00:00, 10.48it/s]"
     ]
    },
    {
     "name": "stdout",
     "output_type": "stream",
     "text": [
      "Accuracy: 0.9337340345604809\n",
      "Precision: 0.9109560130022045\n",
      "Recall: 0.8959646871464912\n",
      "F1-score: 0.9030625961427436\n",
      "Confusion Matrix:\n",
      "[[1022    2    6    2  131]\n",
      " [   1 1613   38   27    0]\n",
      " [   1   36 2613    5    6]\n",
      " [   0   26   33  250    0]\n",
      " [  95    0   32    0  716]]\n"
     ]
    },
    {
     "name": "stderr",
     "output_type": "stream",
     "text": [
      "\n"
     ]
    }
   ],
   "source": [
    "import numpy as np\n",
    "from tqdm import tqdm\n",
    "# Загрузите и создайте экземпляры моделей model1, model2, model3\n",
    "\n",
    "targets2 = []\n",
    "predictions2 = []\n",
    "\n",
    "for images, labels in tqdm(test_dataset_all, desc=\"Predicting\"):\n",
    "    targets2.extend(labels.numpy())  # Добавьте фактические метки классов в список targets\n",
    "    preds = model2(images)\n",
    "    #print(preds)\n",
    "    pred_classes = np.argmax(preds, axis=1)  # Преобразуйте предсказания в метки классов\n",
    "    predictions2.extend(pred_classes)\n",
    "# Вычислите метрики оценки модели, используя targets и predictions\n",
    "\n",
    "# Пример вычисления точности\n",
    "accuracy = np.mean(np.array(targets2) == np.array(predictions2))\n",
    "y_true = targets2  # Истинные метки классов\n",
    "y_pred = predictions2 # Предсказанные метки классов\n",
    "\n",
    "# Расчет Accuracy (Точность)\n",
    "accuracy = accuracy_score(y_true, y_pred)\n",
    "print(\"Accuracy:\", accuracy)\n",
    "\n",
    "# Расчет Precision (Точность)\n",
    "precision = precision_score(y_true, y_pred, average='macro')\n",
    "print(\"Precision:\", precision)\n",
    "\n",
    "# Расчет Recall (Полнота)\n",
    "recall = recall_score(y_true, y_pred, average='macro')\n",
    "print(\"Recall:\", recall)\n",
    "\n",
    "# Расчет F1-score (F1-мера)\n",
    "f1 = f1_score(y_true, y_pred, average='macro')\n",
    "print(\"F1-score:\", f1)\n",
    "\n",
    "# Расчет матрицы ошибок (Confusion Matrix)\n",
    "confusion_mat = confusion_matrix(y_true, y_pred)\n",
    "print(\"Confusion Matrix:\")\n",
    "print(confusion_mat)"
   ]
  },
  {
   "cell_type": "code",
   "execution_count": 20,
   "id": "7dc84574",
   "metadata": {},
   "outputs": [
    {
     "name": "stderr",
     "output_type": "stream",
     "text": [
      "Predicting: 100%|██████████| 210/210 [00:20<00:00, 10.41it/s]"
     ]
    },
    {
     "name": "stdout",
     "output_type": "stream",
     "text": [
      "Accuracy: 0.8934635612321563\n",
      "Precision: 0.8556403704416382\n",
      "Recall: 0.8492165261698688\n",
      "F1-score: 0.8520493723437632\n",
      "Confusion Matrix:\n",
      "[[ 955   10   18    0  180]\n",
      " [   0 1585   41   50    3]\n",
      " [   3  120 2511   19    8]\n",
      " [   0   28   47  232    2]\n",
      " [ 115    3   61    1  663]]\n"
     ]
    },
    {
     "name": "stderr",
     "output_type": "stream",
     "text": [
      "\n"
     ]
    }
   ],
   "source": [
    "import numpy as np\n",
    "from tqdm import tqdm\n",
    "# Загрузите и создайте экземпляры моделей model1, model2, model3\n",
    "\n",
    "targets3 = []\n",
    "predictions3 = []\n",
    "\n",
    "for images, labels in tqdm(test_dataset_all, desc=\"Predicting\"):\n",
    "    targets3.extend(labels.numpy())  # Добавьте фактические метки классов в список targets\n",
    "    preds = model3(images)\n",
    "    #print(preds)\n",
    "    pred_classes = np.argmax(preds, axis=1)  # Преобразуйте предсказания в метки классов\n",
    "    predictions3.extend(pred_classes)\n",
    "# Вычислите метрики оценки модели, используя targets и predictions\n",
    "\n",
    "# Пример вычисления точности\n",
    "accuracy = np.mean(np.array(targets3) == np.array(predictions3))\n",
    "y_true = targets3  # Истинные метки классов\n",
    "y_pred = predictions3 # Предсказанные метки классов\n",
    "\n",
    "# Расчет Accuracy (Точность)\n",
    "accuracy = accuracy_score(y_true, y_pred)\n",
    "print(\"Accuracy:\", accuracy)\n",
    "\n",
    "# Расчет Precision (Точность)\n",
    "precision = precision_score(y_true, y_pred, average='macro')\n",
    "print(\"Precision:\", precision)\n",
    "\n",
    "# Расчет Recall (Полнота)\n",
    "recall = recall_score(y_true, y_pred, average='macro')\n",
    "print(\"Recall:\", recall)\n",
    "\n",
    "# Расчет F1-score (F1-мера)\n",
    "f1 = f1_score(y_true, y_pred, average='macro')\n",
    "print(\"F1-score:\", f1)\n",
    "\n",
    "# Расчет матрицы ошибок (Confusion Matrix)\n",
    "confusion_mat = confusion_matrix(y_true, y_pred)\n",
    "print(\"Confusion Matrix:\")\n",
    "print(confusion_mat)"
   ]
  },
  {
   "cell_type": "code",
   "execution_count": 23,
   "id": "4a009bcf",
   "metadata": {},
   "outputs": [
    {
     "data": {
      "text/plain": [
       "(0.7985103726246593, 0.9030803906836965)"
      ]
     },
     "execution_count": 23,
     "metadata": {},
     "output_type": "execute_result"
    }
   ],
   "source": [
    "from sklearn.metrics import f1_score\n",
    "f1_score(targets1, predictions1, average='macro'), f1_score(targets1, predictions1, average='micro')"
   ]
  },
  {
   "cell_type": "code",
   "execution_count": 10,
   "id": "f34a301d",
   "metadata": {},
   "outputs": [
    {
     "name": "stderr",
     "output_type": "stream",
     "text": [
      "Predicting: 100%|██████████| 210/210 [00:19<00:00, 10.57it/s]"
     ]
    },
    {
     "name": "stdout",
     "output_type": "stream",
     "text": [
      "Accuracy: 0.9337340345604809\n"
     ]
    },
    {
     "name": "stderr",
     "output_type": "stream",
     "text": [
      "\n"
     ]
    }
   ],
   "source": [
    "import numpy as np\n",
    "from tqdm import tqdm\n",
    "# Загрузите и создайте экземпляры моделей model1, model2, model3\n",
    "\n",
    "targets2 = []\n",
    "predictions2 = []\n",
    "\n",
    "for images, labels in tqdm(test_dataset_all, desc=\"Predicting\"):\n",
    "    targets2.extend(labels.numpy())  # Добавьте фактические метки классов в список targets\n",
    "    preds = model2(images)\n",
    "    #print(preds)\n",
    "    pred_classes = np.argmax(preds, axis=1)  # Преобразуйте предсказания в метки классов\n",
    "    predictions2.extend(pred_classes)\n",
    "# Вычислите метрики оценки модели, используя targets и predictions\n",
    "\n",
    "# Пример вычисления точности\n",
    "accuracy = np.mean(np.array(targets2) == np.array(predictions2))\n",
    "print(\"Accuracy:\", accuracy)"
   ]
  },
  {
   "cell_type": "code",
   "execution_count": 22,
   "id": "841d3bfc",
   "metadata": {},
   "outputs": [
    {
     "data": {
      "text/plain": [
       "(0.9030625961427436, 0.9337340345604809)"
      ]
     },
     "execution_count": 22,
     "metadata": {},
     "output_type": "execute_result"
    }
   ],
   "source": [
    "from sklearn.metrics import f1_score\n",
    "f1_score(targets2, predictions2, average='macro'), f1_score(targets2, predictions2, average='micro')"
   ]
  },
  {
   "cell_type": "code",
   "execution_count": 44,
   "id": "7b1c9e4a",
   "metadata": {},
   "outputs": [
    {
     "name": "stderr",
     "output_type": "stream",
     "text": [
      "Predicting: 100%|██████████| 210/210 [00:19<00:00, 10.66it/s]"
     ]
    },
    {
     "name": "stdout",
     "output_type": "stream",
     "text": [
      "Accuracy: 0.8934635612321563\n"
     ]
    },
    {
     "name": "stderr",
     "output_type": "stream",
     "text": [
      "\n"
     ]
    }
   ],
   "source": [
    "import numpy as np\n",
    "from tqdm import tqdm\n",
    "# Загрузите и создайте экземпляры моделей model1, model2, model3\n",
    "\n",
    "targets3 = []\n",
    "predictions3 = []\n",
    "\n",
    "for images, labels in tqdm(test_dataset_all, desc=\"Predicting\"):\n",
    "    targets3.extend(labels.numpy())  # Добавьте фактические метки классов в список targets\n",
    "    preds = model3(images)\n",
    "    #print(preds)\n",
    "    pred_classes = np.argmax(preds, axis=1)  # Преобразуйте предсказания в метки классов\n",
    "    predictions3.extend(pred_classes)\n",
    "# Вычислите метрики оценки модели, используя targets и predictions\n",
    "\n",
    "# Пример вычисления точности\n",
    "accuracy = np.mean(np.array(targets3) == np.array(predictions3))\n",
    "print(\"Accuracy:\", accuracy)"
   ]
  },
  {
   "cell_type": "code",
   "execution_count": 21,
   "id": "bd97f22f",
   "metadata": {},
   "outputs": [
    {
     "data": {
      "text/plain": [
       "(0.8520493723437632, 0.8934635612321563)"
      ]
     },
     "execution_count": 21,
     "metadata": {},
     "output_type": "execute_result"
    }
   ],
   "source": [
    "from sklearn.metrics import f1_score\n",
    "f1_score(targets3, predictions3, average='macro'), f1_score(targets3, predictions3, average='micro')"
   ]
  },
  {
   "cell_type": "code",
   "execution_count": 53,
   "id": "163b8edf",
   "metadata": {},
   "outputs": [
    {
     "data": {
      "text/plain": [
       "6655"
      ]
     },
     "execution_count": 53,
     "metadata": {},
     "output_type": "execute_result"
    }
   ],
   "source": [
    "len(predictions)"
   ]
  },
  {
   "cell_type": "code",
   "execution_count": null,
   "id": "f060f371",
   "metadata": {},
   "outputs": [],
   "source": [
    "import seaborn as sns\n",
    "cm = confusion_matrix(test_dataset, predictions)\n",
    "cm_plot = sns.heatmap(cm, annot=True, cmap='Blues');"
   ]
  },
  {
   "cell_type": "code",
   "execution_count": 25,
   "id": "fc20be6e",
   "metadata": {},
   "outputs": [
    {
     "data": {
      "image/png": "[encoded data removed]",
      "text/plain": [
       "<Figure size 800x600 with 2 Axes>"
      ]
     },
     "metadata": {},
     "output_type": "display_data"
    }
   ],
   "source": [
    "def plot_confusion_matrix(cm, target_names, cmap=None):\n",
    "    import matplotlib.pyplot as plt\n",
    "    import numpy as np\n",
    "    import itertools\n",
    "\n",
    "    accuracy = np.trace(cm) / float(np.sum(cm))\n",
    "    misclass = 1 - accuracy\n",
    "\n",
    "    if cmap is None:\n",
    "        cmap = plt.get_cmap('Blues')\n",
    "\n",
    "    plt.figure(figsize=(8, 6))\n",
    "    plt.imshow(cm, interpolation='nearest', cmap=cmap)\n",
    "    plt.title('Confusion matrix')\n",
    "    plt.colorbar()\n",
    "\n",
    "    if target_names is not None:\n",
    "        tick_marks = np.arange(len(target_names))\n",
    "        plt.xticks(tick_marks, target_names, rotation=45)\n",
    "        plt.yticks(tick_marks, target_names)\n",
    "\n",
    "    for i, j in itertools.product(range(cm.shape[0]), range(cm.shape[1])):\n",
    "            plt.text(j, i, \"{:,}\".format(cm[i, j]),\n",
    "                     horizontalalignment=\"center\",\n",
    "                     color=\"black\")\n",
    "\n",
    "    plt.tight_layout()\n",
    "    plt.ylabel('True label')\n",
    "    plt.xlabel('Predicted label\\naccuracy={:0.4f}%; misclass={:0.4f}%'.format(accuracy, misclass))\n",
    "    plt.show()\n",
    "plot_confusion_matrix(confusion_mat, classes)"
   ]
  },
  {
   "cell_type": "code",
   "execution_count": null,
   "id": "30574715",
   "metadata": {},
   "outputs": [],
   "source": []
  }
 ],
 "metadata": {
  "kernelspec": {
   "display_name": "Python 3 (ipykernel)",
   "language": "python",
   "name": "python3"
  },
  "language_info": {
   "codemirror_mode": {
    "name": "ipython",
    "version": 3
   },
   "file_extension": ".py",
   "mimetype": "text/x-python",
   "name": "python",
   "nbconvert_exporter": "python",
   "pygments_lexer": "ipython3",
   "version": "3.9.5"
  }
 },
 "nbformat": 4,
 "nbformat_minor": 5
}
